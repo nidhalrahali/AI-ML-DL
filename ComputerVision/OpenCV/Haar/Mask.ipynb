{
 "cells": [
  {
   "cell_type": "code",
   "execution_count": 15,
   "metadata": {},
   "outputs": [],
   "source": [
    "import cv2\n",
    "import numpy as np\n",
    "\n",
    "face_cascade = cv2.CascadeClassifier(cv2.data.haarcascades + 'haarcascade_frontalface_alt.xml')\n",
    "face_mask = cv2.imread('face.jpg')\n",
    "h_mask, w_mask = face_mask.shape[:2]\n",
    "if face_cascade.empty() :\n",
    "    raise IOError('Unable to load the face cascade classifier xml file')\n",
    "\n",
    "cap = cv2.VideoCapture(0) # 내 비디오\n",
    "#cap = cv2.VideoCapture('video.mp4') # v\n",
    "while True :\n",
    "    ret, frame = cap.read()\n",
    "    if not ret :\n",
    "        break\n",
    "    gray = cv2.cvtColor(frame, cv2.COLOR_BGR2GRAY)\n",
    "    face_rects = face_cascade.detectMultiScale(gray, 1.3, 5)\n",
    "    for (x, y, w, h) in face_rects :\n",
    "        if h > 0 and w > 0 :\n",
    "            x = int(x - w*0.1)\n",
    "            y = int(y - h*0.05)\n",
    "            w = int(1.2*w)\n",
    "            h = int(1.2*h)\n",
    "            frame_roi = frame[y:y + h, x:x + w]\n",
    "            face_mask_small = cv2.resize(face_mask, (w, h), interpolation = cv2.INTER_AREA)\n",
    "            \n",
    "            gray_mask = cv2.cvtColor(face_mask_small, cv2.COLOR_BGR2GRAY)\n",
    "            ret, mask = cv2.threshold(gray_mask, 240, 255, cv2.THRESH_BINARY_INV)\n",
    "            \n",
    "        mask_inv = cv2.bitwise_not(mask)\n",
    "        masked_face = cv2.bitwise_and(face_mask_small, face_mask_small, mask = mask)\n",
    "        masked_frame = cv2.bitwise_and(frame_roi, frame_roi, mask = mask_inv)\n",
    "        frame[y:y+h, x:x+w] = cv2.add(masked_face, masked_frame)\n",
    "        \n",
    "    cv2.imshow('Face Detector', frame)\n",
    "    c = cv2.waitKey(1)\n",
    "    if c == 27 :\n",
    "        break\n",
    "cap.release()\n",
    "cv2.destroyAllWindows()"
   ]
  },
  {
   "cell_type": "code",
   "execution_count": null,
   "metadata": {},
   "outputs": [],
   "source": []
  }
 ],
 "metadata": {
  "kernelspec": {
   "display_name": "Python 3",
   "language": "python",
   "name": "python3"
  },
  "language_info": {
   "codemirror_mode": {
    "name": "ipython",
    "version": 3
   },
   "file_extension": ".py",
   "mimetype": "text/x-python",
   "name": "python",
   "nbconvert_exporter": "python",
   "pygments_lexer": "ipython3",
   "version": "3.8.3"
  }
 },
 "nbformat": 4,
 "nbformat_minor": 4
}
